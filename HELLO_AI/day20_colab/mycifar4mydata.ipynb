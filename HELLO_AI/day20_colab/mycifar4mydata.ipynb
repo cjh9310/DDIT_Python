{
 "cells": [
  {
   "cell_type": "code",
   "execution_count": 1,
   "id": "981ca726",
   "metadata": {},
   "outputs": [
    {
     "name": "stdout",
     "output_type": "stream",
     "text": [
      "Train samples: (50000, 32, 32, 3) (50000, 1)\n",
      "Test samples: (10000, 32, 32, 3) (10000, 1)\n",
      "Epoch 1/10\n",
      "1563/1563 [==============================] - 10s 4ms/step - loss: 1.5163 - accuracy: 0.4465\n",
      "Epoch 2/10\n",
      "1563/1563 [==============================] - 6s 4ms/step - loss: 1.1431 - accuracy: 0.5965\n",
      "Epoch 3/10\n",
      "1563/1563 [==============================] - 7s 4ms/step - loss: 0.9961 - accuracy: 0.6488\n",
      "Epoch 4/10\n",
      "1563/1563 [==============================] - 7s 4ms/step - loss: 0.9024 - accuracy: 0.6814\n",
      "Epoch 5/10\n",
      "1563/1563 [==============================] - 7s 4ms/step - loss: 0.8252 - accuracy: 0.7114\n",
      "Epoch 6/10\n",
      "1563/1563 [==============================] - 7s 4ms/step - loss: 0.7645 - accuracy: 0.7311\n",
      "Epoch 7/10\n",
      "1563/1563 [==============================] - 7s 4ms/step - loss: 0.7139 - accuracy: 0.7480\n",
      "Epoch 8/10\n",
      "1563/1563 [==============================] - 7s 4ms/step - loss: 0.6656 - accuracy: 0.7670\n",
      "Epoch 9/10\n",
      "1563/1563 [==============================] - 7s 4ms/step - loss: 0.6216 - accuracy: 0.7828\n",
      "Epoch 10/10\n",
      "1563/1563 [==============================] - 7s 4ms/step - loss: 0.5808 - accuracy: 0.7962\n",
      "313/313 [==============================] - 1s 3ms/step - loss: 0.9455 - accuracy: 0.6914\n",
      "313/313 [==============================] - 1s 1ms/step\n"
     ]
    }
   ],
   "source": [
    "# 분석하기\n",
    "import numpy as np\n",
    "import matplotlib.pyplot as plt\n",
    "import tensorflow as tf\n",
    "from tensorflow import keras\n",
    "from keras import models, layers, datasets\n",
    "\n",
    "# 라벨 0번쨰는 airplane\n",
    "class_names = ['airplane', 'automobile', 'bird', 'cat', 'deer', 'dog', 'frog', 'horse', 'ship', 'truck']\n",
    "\n",
    "\n",
    "\n",
    "train_images = np.load(\"train_images.npy\")\n",
    "train_labels = np.load(\"train_labels.npy\")\n",
    "test_images = np.load(\"test_images.npy\")\n",
    "test_labels = np.load(\"test_labels.npy\")\n",
    "\n",
    "print(\"Train samples:\", train_images.shape, train_labels.shape)\n",
    "print(\"Test samples:\", test_images.shape, test_labels.shape)\n",
    " \n",
    "train_images = train_images.reshape((50000, 32, 32, 3))\n",
    "test_images = test_images.reshape((10000, 32, 32, 3))\n",
    " \n",
    "\n",
    " \n",
    "train_images = train_images/255.0\n",
    "test_images = test_images/255.0\n",
    "\n",
    "# layers 흐림과 선명도를 반복 => 결과 더 선명해진다.     인터넷에 cnn 딥러닝 정의 검색\n",
    "model = models.Sequential()\n",
    "model.add(layers.Conv2D(32, (3, 3), activation='relu', input_shape=(32, 32, 3))) # Convolutional (컨벌루션)\n",
    "model.add(layers.MaxPooling2D((2, 2)))# Pooling (풀링) \n",
    "model.add(layers.Conv2D(64, (3, 3), activation='relu'))\n",
    "model.add(layers.MaxPooling2D((2, 2)))\n",
    "model.add(layers.Conv2D(64, (3, 3), activation='relu'))\n",
    "model.add(layers.Flatten())\n",
    "model.add(layers.Dense(64, activation='relu'))\n",
    "model.add(layers.Dense(10, activation='softmax'))\n",
    "\n",
    "model.compile(optimizer='adam', loss='sparse_categorical_crossentropy', metrics=['accuracy'])\n",
    " \n",
    "model.fit(train_images, train_labels, epochs=10)\n",
    " \n",
    "model.save(\"mycifar.h5\")\n",
    "\n",
    "# 검증\n",
    "test_loss, test_acc = model.evaluate(test_images, test_labels)\n",
    "\n",
    " \n",
    "predictions = model.predict(test_images)\n",
    " \n"
   ]
  },
  {
   "cell_type": "code",
   "execution_count": null,
   "id": "cafe2acd",
   "metadata": {},
   "outputs": [],
   "source": []
  }
 ],
 "metadata": {
  "kernelspec": {
   "display_name": "Python 3",
   "language": "python",
   "name": "python3"
  },
  "language_info": {
   "codemirror_mode": {
    "name": "ipython",
    "version": 3
   },
   "file_extension": ".py",
   "mimetype": "text/x-python",
   "name": "python",
   "nbconvert_exporter": "python",
   "pygments_lexer": "ipython3",
   "version": "3.8.8"
  }
 },
 "nbformat": 4,
 "nbformat_minor": 5
}
